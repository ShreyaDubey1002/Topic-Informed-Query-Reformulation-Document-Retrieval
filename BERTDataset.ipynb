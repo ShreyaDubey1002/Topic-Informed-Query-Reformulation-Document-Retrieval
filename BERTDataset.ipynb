{
  "nbformat": 4,
  "nbformat_minor": 0,
  "metadata": {
    "colab": {
      "provenance": []
    },
    "kernelspec": {
      "name": "python3",
      "display_name": "Python 3"
    },
    "language_info": {
      "name": "python"
    }
  },
  "cells": [
    {
      "cell_type": "code",
      "execution_count": null,
      "metadata": {
        "id": "mbtUhlTD3i2C"
      },
      "outputs": [],
      "source": [
        "from google.colab import drive"
      ]
    },
    {
      "cell_type": "code",
      "source": [
        "drive.mount('/content/drive/', force_remount=True)"
      ],
      "metadata": {
        "colab": {
          "base_uri": "https://localhost:8080/"
        },
        "id": "xbODO7Gc3nvb",
        "outputId": "f13e4812-aec7-49a0-a6a1-899fa8f0c5fd"
      },
      "execution_count": null,
      "outputs": [
        {
          "output_type": "stream",
          "name": "stdout",
          "text": [
            "Mounted at /content/drive/\n"
          ]
        }
      ]
    },
    {
      "cell_type": "code",
      "source": [
        "import sys\n",
        "import csv\n",
        "import pandas as pd\n",
        "\n",
        "csv.field_size_limit(sys.maxsize)\n",
        "\n",
        "fr = open(\"/content/drive/MyDrive/collectionandqueries/queries.train.tsv\", \"r\")\n",
        "\n",
        "input_file = csv.reader(fr, delimiter = \"\\t\")\n",
        "\n",
        "final_query_ids = {}\n",
        "\n",
        "count = 0\n",
        "n_count = 0\n",
        "index = 0\n",
        "\n",
        "for query_id, query_text in input_file:\n",
        "    final_query_ids[query_id] = query_text\n",
        "      \n",
        "print ('final_query_ids : ' + str(len(final_query_ids)))"
      ],
      "metadata": {
        "colab": {
          "base_uri": "https://localhost:8080/"
        },
        "id": "x7fYwye0GLLr",
        "outputId": "a35bc678-e848-42d5-b491-2fa8a7ea57b0"
      },
      "execution_count": null,
      "outputs": [
        {
          "output_type": "stream",
          "name": "stdout",
          "text": [
            "final_query_ids : 808731\n"
          ]
        }
      ]
    },
    {
      "cell_type": "code",
      "source": [
        "import sys\n",
        "import csv\n",
        "import pandas as pd\n",
        "\n",
        "csv.field_size_limit(sys.maxsize)\n",
        "\n",
        "fr = open(\"/content/drive/MyDrive/collectionandqueries/20KDocs/qrels_fulldocs_subset_preprocessed_20K.tsv\", \"r\")\n",
        "qrels_doc_ids = {}\n",
        "qrels_docs = {}\n",
        "\n",
        "input_file = csv.reader(fr, delimiter = \"\\t\")\n",
        "\n",
        "count = 0\n",
        "max_count = 20000\n",
        "\n",
        "for DocID, Doc in input_file:\n",
        "    count = count + 1\n",
        "    if (count == 1):\n",
        "      continue\n",
        "    #print('count of qrels : ' + str(count))\n",
        "    if DocID in qrels_doc_ids.keys():  \n",
        "      qrels_doc_ids[DocID] = qrels_doc_ids[DocID] + 1\n",
        "    else:\n",
        "      qrels_doc_ids[DocID] = 1 \n",
        "      qrels_docs[DocID] = Doc  \n",
        "    if (count > max_count):\n",
        "      break    \n",
        "print('len(qrels_doc_ids) : ' + str(len(qrels_doc_ids)))\n",
        "print('len(qrels_docs) : ' + str(len(qrels_docs)))"
      ],
      "metadata": {
        "colab": {
          "base_uri": "https://localhost:8080/"
        },
        "id": "IeWoaaPB5nW1",
        "outputId": "e4c9c011-8bd5-4bbb-8fe8-a8a171bc51c1"
      },
      "execution_count": null,
      "outputs": [
        {
          "output_type": "stream",
          "name": "stdout",
          "text": [
            "len(qrels_doc_ids) : 20000\n",
            "len(qrels_docs) : 20000\n"
          ]
        }
      ]
    },
    {
      "cell_type": "code",
      "source": [
        "import sys\n",
        "import csv\n",
        "import pandas as pd\n",
        "\n",
        "csv.field_size_limit(sys.maxsize)\n",
        "\n",
        "fr = open(\"/content/drive/MyDrive/collectionandqueries/qrels.train.tsv\", \"r\")\n",
        "\n",
        "input_file = csv.reader(fr, delimiter = \"\\t\")\n",
        "\n",
        "query_ids = []\n",
        "queries = []\n",
        "document_ids = [] \n",
        "labels = []\n",
        "documents = []\n",
        "\n",
        "count = 0\n",
        "max_count = 50\n",
        "index = 0\n",
        "\n",
        "for query_id, qo, document_id, relevance in input_file:\n",
        "    if document_id in qrels_doc_ids.keys() and query_id in final_query_ids.keys():  \n",
        "      query_ids.append(query_id)\n",
        "      queries.append(final_query_ids[query_id])\n",
        "      document_ids.append(document_id)\n",
        "      documents.append(qrels_docs[document_id])\n",
        "      labels.append(relevance)\n",
        "      count = count + 1\n",
        "      if (count >= max_count):\n",
        "        break\n",
        "print('len(qrels_query_ids) : ' + str(len(query_ids)))\n",
        "print('len(queries) : ' + str(len(queries)))\n",
        "print('len(document_ids) : ' + str(len(document_ids)))\n",
        "print('len(documents) : ' + str(len(documents)))\n",
        "print('len(labels) : ' + str(len(labels)))\n",
        "print('count : ' + str(count))"
      ],
      "metadata": {
        "colab": {
          "base_uri": "https://localhost:8080/"
        },
        "id": "D6R1f0Nz5bEH",
        "outputId": "6af05e66-cb90-47b8-970d-723621b71f63"
      },
      "execution_count": null,
      "outputs": [
        {
          "output_type": "stream",
          "name": "stdout",
          "text": [
            "len(qrels_query_ids) : 50\n",
            "len(queries) : 50\n",
            "len(document_ids) : 50\n",
            "len(documents) : 50\n",
            "len(labels) : 50\n",
            "count : 50\n"
          ]
        }
      ]
    },
    {
      "cell_type": "code",
      "source": [],
      "metadata": {
        "id": "sque-ppTHtJ6"
      },
      "execution_count": null,
      "outputs": []
    }
  ]
}